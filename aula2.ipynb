{
 "cells": [
  {
   "cell_type": "code",
   "execution_count": 6,
   "metadata": {},
   "outputs": [],
   "source": [
    "def calcular_pop() :\n",
    "    parana_populacao = 11 \n",
    "    parana_crescimento = 0.02\n",
    "    parana_populacao_a_mais_2025 = parana_populacao * parana_crescimento \n",
    "    populacao_2025 = parana_populacao_a_mais_2025 + parana_populacao\n",
    "    print(populacao_2025)"
   ]
  },
  {
   "cell_type": "code",
   "execution_count": 7,
   "metadata": {},
   "outputs": [
    {
     "name": "stdout",
     "output_type": "stream",
     "text": [
      "11.22\n"
     ]
    }
   ],
   "source": [
    "calcular_pop()"
   ]
  },
  {
   "cell_type": "code",
   "execution_count": 10,
   "metadata": {},
   "outputs": [],
   "source": [
    "def calcular_media_pop(): \n",
    "    pop_pr = 11 \n",
    "    pop_rs = 10\n",
    "    pop_sc = 7\n",
    "    media = pop_pr + pop_rs + pop_sc \n",
    "    numero_estados = 3\n",
    "    media_pop = media / numero_estados\n",
    "    print(media_pop)"
   ]
  },
  {
   "cell_type": "code",
   "execution_count": 11,
   "metadata": {},
   "outputs": [
    {
     "name": "stdout",
     "output_type": "stream",
     "text": [
      "9.333333333333334\n"
     ]
    }
   ],
   "source": [
    "calcular_media_pop()"
   ]
  },
  {
   "cell_type": "code",
   "execution_count": 14,
   "metadata": {},
   "outputs": [
    {
     "name": "stdout",
     "output_type": "stream",
     "text": [
      "jdsnjkjjkajdsak\n"
     ]
    }
   ],
   "source": [
    "texto_ale=\"jdsnjkjjkajdsak\"\n",
    "print(texto_ale)"
   ]
  },
  {
   "cell_type": "code",
   "execution_count": 18,
   "metadata": {},
   "outputs": [
    {
     "name": "stdout",
     "output_type": "stream",
     "text": [
      "marquinhos moura\n"
     ]
    }
   ],
   "source": [
    "nome = \"marquinhos moura\"\n",
    "print(nome)"
   ]
  },
  {
   "cell_type": "code",
   "execution_count": 19,
   "metadata": {},
   "outputs": [
    {
     "name": "stdout",
     "output_type": "stream",
     "text": [
      "MARQUINHOS MOURA\n"
     ]
    }
   ],
   "source": [
    "nome_maiusc = nome.upper()\n",
    "print(nome_maiusc)"
   ]
  },
  {
   "cell_type": "code",
   "execution_count": 22,
   "metadata": {},
   "outputs": [
    {
     "name": "stdout",
     "output_type": "stream",
     "text": [
      "marquinhos moura\n",
      "['marquinh', 's m', 'ura']\n"
     ]
    }
   ],
   "source": [
    "nome_lista = nome.split('o')\n",
    "print(nome)\n",
    "\n",
    "print(nome_lista)"
   ]
  },
  {
   "cell_type": "code",
   "execution_count": 23,
   "metadata": {},
   "outputs": [
    {
     "name": "stdout",
     "output_type": "stream",
     "text": [
      "marquinhos_moura\n",
      "['marquinhos_moura']\n"
     ]
    }
   ],
   "source": [
    "nome = nome.replace(' ','_')\n",
    "nome_lista = nome.split()\n",
    "print(nome)\n",
    "print(nome_lista)"
   ]
  },
  {
   "cell_type": "code",
   "execution_count": 27,
   "metadata": {},
   "outputs": [
    {
     "name": "stdout",
     "output_type": "stream",
     "text": [
      "karl marx karl☭marx\n"
     ]
    }
   ],
   "source": [
    "comunismo = ('karl marx')\n",
    "comunismo_symbol = comunismo.replace(' ', '☭')\n",
    "print (comunismo, comunismo_symbol)"
   ]
  },
  {
   "cell_type": "code",
   "execution_count": 32,
   "metadata": {},
   "outputs": [
    {
     "name": "stdout",
     "output_type": "stream",
     "text": [
      "karl☭marx\n",
      "k\n",
      "karl\n"
     ]
    }
   ],
   "source": [
    "print(comunismo_symbol)\n",
    "print(comunismo_symbol[0])\n",
    "print(comunismo_symbol[: 4])\n"
   ]
  },
  {
   "cell_type": "code",
   "execution_count": 33,
   "metadata": {},
   "outputs": [
    {
     "name": "stdout",
     "output_type": "stream",
     "text": [
      "karl marx karl☭marx\n",
      "karl☭marx\n",
      "k\n",
      "karl\n",
      "karl\n",
      "karl☭marx\n",
      "karl☭marx\n",
      "x\n",
      "r\n",
      "☭mar\n",
      "karl☭marx\n",
      "l☭mar\n"
     ]
    }
   ],
   "source": [
    "comunismo = ('karl marx')\n",
    "comunismo_symbol = comunismo.replace(' ', '☭')\n",
    "print(comunismo, comunismo_symbol)\n",
    "\n",
    "print(comunismo_symbol)\n",
    "print(comunismo_symbol[0])\n",
    "print(comunismo_symbol[0:4])\n",
    "print(comunismo_symbol[:4])\n",
    "print(comunismo_symbol[:])\n",
    "print(comunismo_symbol[0:])\n",
    "print(comunismo_symbol[-1])\n",
    "print(comunismo_symbol[-2])\n",
    "print(comunismo_symbol[4:-1])\n",
    "\n",
    "comunismo = ('karl marx')\n",
    "comunismo_symbol = comunismo.replace(' ', '☭')\n",
    "\n",
    "def print_intervalo(inicio, fim):\n",
    "    print(comunismo_symbol[inicio:fim])\n",
    "\n",
    "print(comunismo_symbol)\n",
    "print_intervalo(3, -1)"
   ]
  }
 ],
 "metadata": {
  "kernelspec": {
   "display_name": "Python 3",
   "language": "python",
   "name": "python3"
  },
  "language_info": {
   "codemirror_mode": {
    "name": "ipython",
    "version": 3
   },
   "file_extension": ".py",
   "mimetype": "text/x-python",
   "name": "python",
   "nbconvert_exporter": "python",
   "pygments_lexer": "ipython3",
   "version": "3.10.8"
  }
 },
 "nbformat": 4,
 "nbformat_minor": 2
}
